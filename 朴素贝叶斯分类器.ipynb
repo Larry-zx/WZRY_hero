{
 "cells": [
  {
   "cell_type": "code",
   "execution_count": 4,
   "metadata": {},
   "outputs": [],
   "source": [
    "import pandas as pd \n",
    "import numpy as np "
   ]
  },
  {
   "cell_type": "code",
   "execution_count": 1,
   "metadata": {},
   "outputs": [],
   "source": [
    "from sklearn import datasets\n",
    "iris = datasets.load_iris()"
   ]
  },
  {
   "cell_type": "code",
   "execution_count": 14,
   "metadata": {},
   "outputs": [
    {
     "data": {
      "text/plain": [
       "array([0, 0, 0, 0, 0, 0, 0, 0, 0, 0, 0, 0, 0, 0, 0, 0, 0, 0, 0, 0, 0, 0,\n",
       "       0, 0, 0, 0, 0, 0, 0, 0, 0, 0, 0, 0, 0, 0, 0, 0, 0, 0, 0, 0, 0, 0,\n",
       "       0, 0, 0, 0, 0, 0, 1, 1, 1, 1, 1, 1, 1, 1, 1, 1, 1, 1, 1, 1, 1, 1,\n",
       "       1, 1, 1, 1, 1, 1, 1, 1, 1, 1, 1, 1, 1, 1, 1, 1, 1, 1, 1, 1, 1, 1,\n",
       "       1, 1, 1, 1, 1, 1, 1, 1, 1, 1, 1, 1, 2, 2, 2, 2, 2, 2, 2, 2, 2, 2,\n",
       "       2, 2, 2, 2, 2, 2, 2, 2, 2, 2, 2, 2, 2, 2, 2, 2, 2, 2, 2, 2, 2, 2,\n",
       "       2, 2, 2, 2, 2, 2, 2, 2, 2, 2, 2, 2, 2, 2, 2, 2, 2, 2])"
      ]
     },
     "execution_count": 14,
     "metadata": {},
     "output_type": "execute_result"
    }
   ],
   "source": [
    "iris.data \n",
    "iris.target"
   ]
  },
  {
   "cell_type": "code",
   "execution_count": 30,
   "metadata": {},
   "outputs": [
    {
     "data": {
      "text/plain": [
       "array([3, 2, 1, 2, 2, 2, 5, 5, 6, 6, 2, 4, 1, 6, 2, 3, 2, 1, 2, 3, 2, 1,\n",
       "       1, 1, 4, 5, 5, 1, 3, 2, 1, 1, 2, 2, 3, 1, 2, 3, 4, 2, 4, 1, 2, 2,\n",
       "       4, 4, 1, 4, 6, 5, 1, 6, 5, 5, 6, 5, 1, 1, 6, 6, 1, 2, 5, 6, 6, 2,\n",
       "       6, 1, 5, 4, 3, 1, 2, 6, 5, 2, 4, 2, 1, 2, 4, 1, 4, 6, 5, 2, 1, 2,\n",
       "       2, 3, 1, 6, 4, 1, 1, 2, 6, 5, 4, 1, 3, 1, 4, 1, 5, 1, 2, 4])"
      ]
     },
     "execution_count": 30,
     "metadata": {},
     "output_type": "execute_result"
    }
   ],
   "source": [
    "hero_info = pd.read_csv('王者荣耀.csv')\n",
    "hero_info = np.array(hero_info)\n",
    "hero_target"
   ]
  },
  {
   "cell_type": "code",
   "execution_count": 23,
   "metadata": {},
   "outputs": [],
   "source": [
    "hero_data = hero_info[:,2:6].astype(int)\n",
    "hero_target = hero_info[:,6].astype(int)"
   ]
  },
  {
   "cell_type": "code",
   "execution_count": 27,
   "metadata": {},
   "outputs": [],
   "source": [
    "from sklearn.naive_bayes import GaussianNB\n",
    "clf = GaussianNB()\n",
    "clf = clf.fit(hero_data, hero_target)"
   ]
  },
  {
   "cell_type": "code",
   "execution_count": 29,
   "metadata": {},
   "outputs": [
    {
     "data": {
      "text/plain": [
       "array([3, 2, 1, 1, 2, 2, 5, 5, 6, 3, 2, 5, 1, 2, 1, 3, 1, 1, 2, 3, 2, 1,\n",
       "       1, 1, 4, 4, 5, 1, 3, 2, 1, 1, 2, 2, 3, 2, 2, 3, 4, 2, 5, 1, 2, 2,\n",
       "       5, 1, 3, 1, 3, 5, 1, 3, 5, 5, 2, 5, 1, 1, 2, 2, 6, 2, 5, 2, 6, 2,\n",
       "       6, 1, 4, 4, 1, 3, 2, 6, 5, 2, 4, 1, 1, 2, 4, 1, 2, 3, 5, 2, 1, 2,\n",
       "       6, 1, 1, 2, 5, 1, 4, 2, 6, 5, 2, 1, 3, 1, 4, 1, 5, 4, 5, 5])"
      ]
     },
     "execution_count": 29,
     "metadata": {},
     "output_type": "execute_result"
    }
   ],
   "source": [
    "y_pred=clf.predict(hero_data)\n",
    "y_pred"
   ]
  },
  {
   "cell_type": "code",
   "execution_count": null,
   "metadata": {},
   "outputs": [],
   "source": []
  }
 ],
 "metadata": {
  "kernelspec": {
   "display_name": "Python 3",
   "language": "python",
   "name": "python3"
  },
  "language_info": {
   "codemirror_mode": {
    "name": "ipython",
    "version": 3
   },
   "file_extension": ".py",
   "mimetype": "text/x-python",
   "name": "python",
   "nbconvert_exporter": "python",
   "pygments_lexer": "ipython3",
   "version": "3.8.3"
  },
  "toc": {
   "base_numbering": 1,
   "nav_menu": {},
   "number_sections": true,
   "sideBar": true,
   "skip_h1_title": false,
   "title_cell": "Table of Contents",
   "title_sidebar": "Contents",
   "toc_cell": false,
   "toc_position": {},
   "toc_section_display": true,
   "toc_window_display": false
  }
 },
 "nbformat": 4,
 "nbformat_minor": 4
}
